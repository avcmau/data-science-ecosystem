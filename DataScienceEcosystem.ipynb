{
 "cells": [
  {
   "cell_type": "markdown",
   "id": "78edbd93-2261-4a27-a8a5-09143fb940ce",
   "metadata": {},
   "source": [
    "# Data Science Tools and Ecosystem"
   ]
  },
  {
   "cell_type": "markdown",
   "id": "b08a7c60-b140-4194-8a79-34412c7e1f9c",
   "metadata": {},
   "source": [
    "## Author\n",
    "Avery"
   ]
  },
  {
   "cell_type": "markdown",
   "id": "fb2f6da8-cb50-414d-b136-f89d1a6fbde6",
   "metadata": {},
   "source": [
    "In this notebook, Data Science Tools and Ecosystem are summarized."
   ]
  },
  {
   "cell_type": "markdown",
   "id": "a9b71413-7ba4-4fcf-b94b-f51d07d615bb",
   "metadata": {},
   "source": [
    "**Objectives**:\n",
    "- List popular languages for data science\n",
    "- List commonly used libraries for data science\n",
    "- List 3 open source development environments commonly used in data science\n",
    "- List some examples of Python arithmetic expressions"
   ]
  },
  {
   "cell_type": "markdown",
   "id": "6046ecb4-94b8-4451-a16e-0046cfd8d467",
   "metadata": {},
   "source": [
    "Some of the popular programming languages that data scientists use are the following:\n",
    "1. Python\n",
    "2. R\n",
    "3. SQL\n",
    "4. Java\n",
    "5. C++\n",
    "6. Julia"
   ]
  },
  {
   "cell_type": "markdown",
   "id": "efac78a9-b0a8-4fa7-b139-c52e74550aba",
   "metadata": {},
   "source": [
    "Some of the commonly used libraries used by Data Scientsits are:\n",
    "1. Pandas (Python) - scientific computing\n",
    "2. NumPy (Python) - scientific computing\n",
    "3. SciPy (Python) - scientific computing\n",
    "4. Keras (python) - machine learning\n",
    "5. Weka (Java) - data mining\n",
    "6. Java-ML (Java) - machine learning\n",
    "7. `dplyr` (R) - data manipulation\n",
    "8. `caret` (R) - machine learning"
   ]
  },
  {
   "cell_type": "markdown",
   "id": "7d82d1eb-1908-4b25-97aa-b4580817888f",
   "metadata": {},
   "source": [
    "| Data Science Tools |\n",
    "-----\n",
    "| Jupyter Lab |\n",
    "| RStudio |\n",
    "| Git & GitHub |"
   ]
  },
  {
   "cell_type": "markdown",
   "id": "44b59a3b-fd67-40b8-aa4a-c726a2e069c6",
   "metadata": {},
   "source": [
    "# Exercise 7\n",
    "\n",
    "### Below are a few examples of evaluating arithmetic expressions in Python."
   ]
  },
  {
   "cell_type": "markdown",
   "id": "521a4536-b8b7-4d4f-ac93-ebafc6206ad2",
   "metadata": {},
   "source": [
    "# Exercise 8"
   ]
  },
  {
   "cell_type": "code",
   "execution_count": 43,
   "id": "4b4775b8-acfa-4cd5-8936-58865e9e80b1",
   "metadata": {},
   "outputs": [
    {
     "data": {
      "text/plain": [
       "17"
      ]
     },
     "execution_count": 43,
     "metadata": {},
     "output_type": "execute_result"
    }
   ],
   "source": [
    "# This is a simple arithmetic expression to multiply then add integers\n",
    "\n",
    "(3*4)+5"
   ]
  },
  {
   "cell_type": "markdown",
   "id": "12f7e8b5-d265-49dd-b5d2-9053c0e94e9c",
   "metadata": {},
   "source": [
    "# Exercise 9"
   ]
  },
  {
   "cell_type": "code",
   "execution_count": 45,
   "id": "5f133a86-2e5d-4a3a-90e0-04007798dd7f",
   "metadata": {},
   "outputs": [
    {
     "data": {
      "text/plain": [
       "3.3333333333333335"
      ]
     },
     "execution_count": 45,
     "metadata": {},
     "output_type": "execute_result"
    }
   ],
   "source": [
    "# This will convert 200 minutes to hours by dividing by 60\n",
    "200/60"
   ]
  },
  {
   "cell_type": "code",
   "execution_count": null,
   "id": "b7b1aac2-3d4b-41d5-a779-23ef78bdfd0d",
   "metadata": {},
   "outputs": [],
   "source": []
  }
 ],
 "metadata": {
  "kernelspec": {
   "display_name": "Python 3 (ipykernel)",
   "language": "python",
   "name": "python3"
  },
  "language_info": {
   "codemirror_mode": {
    "name": "ipython",
    "version": 3
   },
   "file_extension": ".py",
   "mimetype": "text/x-python",
   "name": "python",
   "nbconvert_exporter": "python",
   "pygments_lexer": "ipython3",
   "version": "3.11.5"
  }
 },
 "nbformat": 4,
 "nbformat_minor": 5
}
